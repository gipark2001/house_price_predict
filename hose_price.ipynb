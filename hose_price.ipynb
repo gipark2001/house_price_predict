{
  "nbformat": 4,
  "nbformat_minor": 0,
  "metadata": {
    "colab": {
      "name": "hose_price.ipynb",
      "version": "0.3.2",
      "provenance": [],
      "collapsed_sections": [],
      "include_colab_link": true
    },
    "kernelspec": {
      "name": "python3",
      "display_name": "Python 3"
    },
    "accelerator": "GPU"
  },
  "cells": [
    {
      "cell_type": "markdown",
      "metadata": {
        "id": "view-in-github",
        "colab_type": "text"
      },
      "source": [
        "<a href=\"https://colab.research.google.com/github/gipark2001/house_price_predict/blob/master/hose_price.ipynb\" target=\"_parent\"><img src=\"https://colab.research.google.com/assets/colab-badge.svg\" alt=\"Open In Colab\"/></a>"
      ]
    },
    {
      "metadata": {
        "id": "3ooqp8sbfpuL",
        "colab_type": "text"
      },
      "cell_type": "markdown",
      "source": [
        "https://medium.freecodecamp.org/how-to-build-your-first-neural-network-to-predict-house-prices-with-keras-f8db83049159"
      ]
    },
    {
      "metadata": {
        "id": "DVtNcNoTZG4T",
        "colab_type": "code",
        "colab": {
          "base_uri": "https://localhost:8080/",
          "height": 36
        },
        "outputId": "6e736142-229d-4711-86a2-dbef4967cfa7"
      },
      "cell_type": "code",
      "source": [
        "from google.colab import drive\n",
        "drive.mount('/content/gdrive')"
      ],
      "execution_count": 88,
      "outputs": [
        {
          "output_type": "stream",
          "text": [
            "Drive already mounted at /content/gdrive; to attempt to forcibly remount, call drive.mount(\"/content/gdrive\", force_remount=True).\n"
          ],
          "name": "stdout"
        }
      ]
    },
    {
      "metadata": {
        "id": "PVLegPfWZIv1",
        "colab_type": "code",
        "colab": {
          "base_uri": "https://localhost:8080/",
          "height": 36
        },
        "outputId": "7265649d-e809-4bfd-e961-0463f36615dc"
      },
      "cell_type": "code",
      "source": [
        "ls"
      ],
      "execution_count": 89,
      "outputs": [
        {
          "output_type": "stream",
          "text": [
            "hose_price.ipynb  housepricedata.csv\n"
          ],
          "name": "stdout"
        }
      ]
    },
    {
      "metadata": {
        "id": "SBlmlpA5pJNs",
        "colab_type": "code",
        "colab": {
          "base_uri": "https://localhost:8080/",
          "height": 55
        },
        "outputId": "30c983c5-8a43-4e18-b94d-b7390636104a"
      },
      "cell_type": "code",
      "source": [
        "cd Colab\\ Notebooks"
      ],
      "execution_count": 90,
      "outputs": [
        {
          "output_type": "stream",
          "text": [
            "[Errno 2] No such file or directory: 'Colab Notebooks'\n",
            "/content/gdrive/My Drive/Colab Notebooks/house price\n"
          ],
          "name": "stdout"
        }
      ]
    },
    {
      "metadata": {
        "id": "p6m7fl8LpPl5",
        "colab_type": "code",
        "colab": {
          "base_uri": "https://localhost:8080/",
          "height": 55
        },
        "outputId": "c9ad759d-106a-4136-8354-ef62731a5b65"
      },
      "cell_type": "code",
      "source": [
        "cd house\\ price"
      ],
      "execution_count": 91,
      "outputs": [
        {
          "output_type": "stream",
          "text": [
            "[Errno 2] No such file or directory: 'house price'\n",
            "/content/gdrive/My Drive/Colab Notebooks/house price\n"
          ],
          "name": "stdout"
        }
      ]
    },
    {
      "metadata": {
        "id": "BNB9xEJ-ZN-_",
        "colab_type": "code",
        "colab": {
          "base_uri": "https://localhost:8080/",
          "height": 55
        },
        "outputId": "d1892bc5-8c54-4805-8d70-3b3be5fe8028"
      },
      "cell_type": "code",
      "source": [
        "cd house\\ price"
      ],
      "execution_count": 92,
      "outputs": [
        {
          "output_type": "stream",
          "text": [
            "[Errno 2] No such file or directory: 'house price'\n",
            "/content/gdrive/My Drive/Colab Notebooks/house price\n"
          ],
          "name": "stdout"
        }
      ]
    },
    {
      "metadata": {
        "id": "8Eff-mnNZSM5",
        "colab_type": "code",
        "colab": {}
      },
      "cell_type": "code",
      "source": [
        "import pandas as pd"
      ],
      "execution_count": 0,
      "outputs": []
    },
    {
      "metadata": {
        "id": "2hHzq-12ZcUj",
        "colab_type": "code",
        "colab": {}
      },
      "cell_type": "code",
      "source": [
        "df = pd.read_csv('housepricedata.csv')"
      ],
      "execution_count": 0,
      "outputs": []
    },
    {
      "metadata": {
        "id": "snldZEybZenp",
        "colab_type": "code",
        "colab": {
          "base_uri": "https://localhost:8080/",
          "height": 202
        },
        "outputId": "0968c7ca-3bf6-40c8-ae9a-f7bf3726f3cd"
      },
      "cell_type": "code",
      "source": [
        "df.head()"
      ],
      "execution_count": 118,
      "outputs": [
        {
          "output_type": "execute_result",
          "data": {
            "text/html": [
              "<div>\n",
              "<style scoped>\n",
              "    .dataframe tbody tr th:only-of-type {\n",
              "        vertical-align: middle;\n",
              "    }\n",
              "\n",
              "    .dataframe tbody tr th {\n",
              "        vertical-align: top;\n",
              "    }\n",
              "\n",
              "    .dataframe thead th {\n",
              "        text-align: right;\n",
              "    }\n",
              "</style>\n",
              "<table border=\"1\" class=\"dataframe\">\n",
              "  <thead>\n",
              "    <tr style=\"text-align: right;\">\n",
              "      <th></th>\n",
              "      <th>LotArea</th>\n",
              "      <th>OverallQual</th>\n",
              "      <th>OverallCond</th>\n",
              "      <th>TotalBsmtSF</th>\n",
              "      <th>FullBath</th>\n",
              "      <th>HalfBath</th>\n",
              "      <th>BedroomAbvGr</th>\n",
              "      <th>TotRmsAbvGrd</th>\n",
              "      <th>Fireplaces</th>\n",
              "      <th>GarageArea</th>\n",
              "      <th>AboveMedianPrice</th>\n",
              "    </tr>\n",
              "  </thead>\n",
              "  <tbody>\n",
              "    <tr>\n",
              "      <th>0</th>\n",
              "      <td>8450</td>\n",
              "      <td>7</td>\n",
              "      <td>5</td>\n",
              "      <td>856</td>\n",
              "      <td>2</td>\n",
              "      <td>1</td>\n",
              "      <td>3</td>\n",
              "      <td>8</td>\n",
              "      <td>0</td>\n",
              "      <td>548</td>\n",
              "      <td>1</td>\n",
              "    </tr>\n",
              "    <tr>\n",
              "      <th>1</th>\n",
              "      <td>9600</td>\n",
              "      <td>6</td>\n",
              "      <td>8</td>\n",
              "      <td>1262</td>\n",
              "      <td>2</td>\n",
              "      <td>0</td>\n",
              "      <td>3</td>\n",
              "      <td>6</td>\n",
              "      <td>1</td>\n",
              "      <td>460</td>\n",
              "      <td>1</td>\n",
              "    </tr>\n",
              "    <tr>\n",
              "      <th>2</th>\n",
              "      <td>11250</td>\n",
              "      <td>7</td>\n",
              "      <td>5</td>\n",
              "      <td>920</td>\n",
              "      <td>2</td>\n",
              "      <td>1</td>\n",
              "      <td>3</td>\n",
              "      <td>6</td>\n",
              "      <td>1</td>\n",
              "      <td>608</td>\n",
              "      <td>1</td>\n",
              "    </tr>\n",
              "    <tr>\n",
              "      <th>3</th>\n",
              "      <td>9550</td>\n",
              "      <td>7</td>\n",
              "      <td>5</td>\n",
              "      <td>756</td>\n",
              "      <td>1</td>\n",
              "      <td>0</td>\n",
              "      <td>3</td>\n",
              "      <td>7</td>\n",
              "      <td>1</td>\n",
              "      <td>642</td>\n",
              "      <td>0</td>\n",
              "    </tr>\n",
              "    <tr>\n",
              "      <th>4</th>\n",
              "      <td>14260</td>\n",
              "      <td>8</td>\n",
              "      <td>5</td>\n",
              "      <td>1145</td>\n",
              "      <td>2</td>\n",
              "      <td>1</td>\n",
              "      <td>4</td>\n",
              "      <td>9</td>\n",
              "      <td>1</td>\n",
              "      <td>836</td>\n",
              "      <td>1</td>\n",
              "    </tr>\n",
              "  </tbody>\n",
              "</table>\n",
              "</div>"
            ],
            "text/plain": [
              "   LotArea  OverallQual  OverallCond  TotalBsmtSF  FullBath  HalfBath  \\\n",
              "0     8450            7            5          856         2         1   \n",
              "1     9600            6            8         1262         2         0   \n",
              "2    11250            7            5          920         2         1   \n",
              "3     9550            7            5          756         1         0   \n",
              "4    14260            8            5         1145         2         1   \n",
              "\n",
              "   BedroomAbvGr  TotRmsAbvGrd  Fireplaces  GarageArea  AboveMedianPrice  \n",
              "0             3             8           0         548                 1  \n",
              "1             3             6           1         460                 1  \n",
              "2             3             6           1         608                 1  \n",
              "3             3             7           1         642                 0  \n",
              "4             4             9           1         836                 1  "
            ]
          },
          "metadata": {
            "tags": []
          },
          "execution_count": 118
        }
      ]
    },
    {
      "metadata": {
        "id": "CaUmWlprZ5HW",
        "colab_type": "code",
        "colab": {
          "base_uri": "https://localhost:8080/",
          "height": 148
        },
        "outputId": "f68383ad-02b3-4a49-c5e5-82ec37eb7016"
      },
      "cell_type": "code",
      "source": [
        "df.values"
      ],
      "execution_count": 119,
      "outputs": [
        {
          "output_type": "execute_result",
          "data": {
            "text/plain": [
              "array([[ 8450,     7,     5, ...,     0,   548,     1],\n",
              "       [ 9600,     6,     8, ...,     1,   460,     1],\n",
              "       [11250,     7,     5, ...,     1,   608,     1],\n",
              "       ...,\n",
              "       [ 9042,     7,     9, ...,     2,   252,     1],\n",
              "       [ 9717,     5,     6, ...,     0,   240,     0],\n",
              "       [ 9937,     5,     6, ...,     0,   276,     0]])"
            ]
          },
          "metadata": {
            "tags": []
          },
          "execution_count": 119
        }
      ]
    },
    {
      "metadata": {
        "id": "tGA0absBaZ2d",
        "colab_type": "code",
        "colab": {}
      },
      "cell_type": "code",
      "source": [
        "dataset = df.values"
      ],
      "execution_count": 0,
      "outputs": []
    },
    {
      "metadata": {
        "id": "vY1k2I6RafeB",
        "colab_type": "code",
        "colab": {
          "base_uri": "https://localhost:8080/",
          "height": 36
        },
        "outputId": "f7b70868-13ad-48b2-a7e2-f00c2173fe3d"
      },
      "cell_type": "code",
      "source": [
        "type(dataset)"
      ],
      "execution_count": 121,
      "outputs": [
        {
          "output_type": "execute_result",
          "data": {
            "text/plain": [
              "numpy.ndarray"
            ]
          },
          "metadata": {
            "tags": []
          },
          "execution_count": 121
        }
      ]
    },
    {
      "metadata": {
        "id": "YWdQk4dyaiLx",
        "colab_type": "code",
        "colab": {}
      },
      "cell_type": "code",
      "source": [
        "X = dataset[:,0:10]"
      ],
      "execution_count": 0,
      "outputs": []
    },
    {
      "metadata": {
        "id": "tP9Gr8u_dlFH",
        "colab_type": "code",
        "colab": {}
      },
      "cell_type": "code",
      "source": [
        "Y = dataset[:,10]"
      ],
      "execution_count": 0,
      "outputs": []
    },
    {
      "metadata": {
        "id": "xiFDEGPhd9Gz",
        "colab_type": "code",
        "colab": {}
      },
      "cell_type": "code",
      "source": [
        "from sklearn import preprocessing"
      ],
      "execution_count": 0,
      "outputs": []
    },
    {
      "metadata": {
        "id": "ruK7M6_CeUgE",
        "colab_type": "code",
        "colab": {
          "base_uri": "https://localhost:8080/",
          "height": 75
        },
        "outputId": "d99b86bf-e817-4aef-efd7-56b8ec47f3e6"
      },
      "cell_type": "code",
      "source": [
        "min_max_scaler = preprocessing.MinMaxScaler()\n",
        "X_scale = min_max_scaler.fit_transform(X)"
      ],
      "execution_count": 125,
      "outputs": [
        {
          "output_type": "stream",
          "text": [
            "/usr/local/lib/python3.6/dist-packages/sklearn/utils/validation.py:595: DataConversionWarning: Data with input dtype int64 was converted to float64 by MinMaxScaler.\n",
            "  warnings.warn(msg, DataConversionWarning)\n"
          ],
          "name": "stderr"
        }
      ]
    },
    {
      "metadata": {
        "id": "DXzJQevZeWt3",
        "colab_type": "code",
        "colab": {}
      },
      "cell_type": "code",
      "source": [
        "from sklearn.model_selection import train_test_split"
      ],
      "execution_count": 0,
      "outputs": []
    },
    {
      "metadata": {
        "id": "HR-gi4ttfHPu",
        "colab_type": "code",
        "colab": {}
      },
      "cell_type": "code",
      "source": [
        "X_train, X_val_and_test, Y_train, Y_val_and_test = train_test_split(X_scale, Y, test_size=0.3)"
      ],
      "execution_count": 0,
      "outputs": []
    },
    {
      "metadata": {
        "id": "fJ7r74frfKnj",
        "colab_type": "code",
        "colab": {}
      },
      "cell_type": "code",
      "source": [
        "X_val, X_test, Y_val, Y_test = train_test_split(X_val_and_test, Y_val_and_test, test_size=0.5)"
      ],
      "execution_count": 0,
      "outputs": []
    },
    {
      "metadata": {
        "id": "PJdEq8sZgTg-",
        "colab_type": "code",
        "colab": {
          "base_uri": "https://localhost:8080/",
          "height": 36
        },
        "outputId": "a10174ac-99a7-4fc5-9c36-f7290d860470"
      },
      "cell_type": "code",
      "source": [
        "print(X_train.shape, X_val.shape, X_test.shape, Y_train.shape, Y_val.shape, Y_test.shape)"
      ],
      "execution_count": 129,
      "outputs": [
        {
          "output_type": "stream",
          "text": [
            "(1022, 10) (219, 10) (219, 10) (1022,) (219,) (219,)\n"
          ],
          "name": "stdout"
        }
      ]
    },
    {
      "metadata": {
        "id": "Do8Ibf_VgjfQ",
        "colab_type": "code",
        "colab": {}
      },
      "cell_type": "code",
      "source": [
        "from keras.models import Sequential\n",
        "from keras.layers import Dense"
      ],
      "execution_count": 0,
      "outputs": []
    },
    {
      "metadata": {
        "id": "iWV65O_Cg4FN",
        "colab_type": "code",
        "colab": {}
      },
      "cell_type": "code",
      "source": [
        "model = Sequential([\n",
        "    Dense(32, activation='relu', input_shape=(10,)),\n",
        "    Dense(32, activation='relu'),\n",
        "    Dense(1, activation='sigmoid'),\n",
        "])"
      ],
      "execution_count": 0,
      "outputs": []
    },
    {
      "metadata": {
        "id": "1050V14FhTAQ",
        "colab_type": "code",
        "colab": {}
      },
      "cell_type": "code",
      "source": [
        "model.compile(optimizer='sgd',\n",
        "              loss='binary_crossentropy',\n",
        "              metrics=['accuracy'])"
      ],
      "execution_count": 0,
      "outputs": []
    },
    {
      "metadata": {
        "id": "lWXu8gzShUpi",
        "colab_type": "code",
        "colab": {
          "base_uri": "https://localhost:8080/",
          "height": 3769
        },
        "outputId": "dd8eb3fe-c31c-4388-89a0-3938bf723ca8"
      },
      "cell_type": "code",
      "source": [
        "hist = model.fit(X_train, Y_train,\n",
        "          batch_size=32, epochs=100,\n",
        "          validation_data=(X_val, Y_val))"
      ],
      "execution_count": 133,
      "outputs": [
        {
          "output_type": "stream",
          "text": [
            "Train on 1022 samples, validate on 219 samples\n",
            "Epoch 1/100\n",
            "1022/1022 [==============================] - 1s 522us/step - loss: 0.6749 - acc: 0.5098 - val_loss: 0.6863 - val_acc: 0.4521\n",
            "Epoch 2/100\n",
            "1022/1022 [==============================] - 0s 97us/step - loss: 0.6679 - acc: 0.5117 - val_loss: 0.6805 - val_acc: 0.4521\n",
            "Epoch 3/100\n",
            "1022/1022 [==============================] - 0s 96us/step - loss: 0.6618 - acc: 0.5108 - val_loss: 0.6741 - val_acc: 0.4566\n",
            "Epoch 4/100\n",
            "1022/1022 [==============================] - 0s 94us/step - loss: 0.6561 - acc: 0.5186 - val_loss: 0.6683 - val_acc: 0.4612\n",
            "Epoch 5/100\n",
            "1022/1022 [==============================] - 0s 96us/step - loss: 0.6500 - acc: 0.5391 - val_loss: 0.6621 - val_acc: 0.4795\n",
            "Epoch 6/100\n",
            "1022/1022 [==============================] - 0s 101us/step - loss: 0.6431 - acc: 0.5714 - val_loss: 0.6545 - val_acc: 0.5982\n",
            "Epoch 7/100\n",
            "1022/1022 [==============================] - 0s 97us/step - loss: 0.6358 - acc: 0.6712 - val_loss: 0.6474 - val_acc: 0.6621\n",
            "Epoch 8/100\n",
            "1022/1022 [==============================] - 0s 94us/step - loss: 0.6286 - acc: 0.7329 - val_loss: 0.6405 - val_acc: 0.7123\n",
            "Epoch 9/100\n",
            "1022/1022 [==============================] - 0s 94us/step - loss: 0.6215 - acc: 0.7603 - val_loss: 0.6336 - val_acc: 0.7397\n",
            "Epoch 10/100\n",
            "1022/1022 [==============================] - 0s 92us/step - loss: 0.6144 - acc: 0.7769 - val_loss: 0.6263 - val_acc: 0.7717\n",
            "Epoch 11/100\n",
            "1022/1022 [==============================] - 0s 90us/step - loss: 0.6070 - acc: 0.8082 - val_loss: 0.6197 - val_acc: 0.7717\n",
            "Epoch 12/100\n",
            "1022/1022 [==============================] - 0s 89us/step - loss: 0.5995 - acc: 0.8151 - val_loss: 0.6126 - val_acc: 0.7900\n",
            "Epoch 13/100\n",
            "1022/1022 [==============================] - 0s 95us/step - loss: 0.5919 - acc: 0.8258 - val_loss: 0.6058 - val_acc: 0.7900\n",
            "Epoch 14/100\n",
            "1022/1022 [==============================] - 0s 90us/step - loss: 0.5840 - acc: 0.8258 - val_loss: 0.5983 - val_acc: 0.7991\n",
            "Epoch 15/100\n",
            "1022/1022 [==============================] - 0s 93us/step - loss: 0.5758 - acc: 0.8405 - val_loss: 0.5906 - val_acc: 0.8037\n",
            "Epoch 16/100\n",
            "1022/1022 [==============================] - 0s 105us/step - loss: 0.5672 - acc: 0.8337 - val_loss: 0.5818 - val_acc: 0.8082\n",
            "Epoch 17/100\n",
            "1022/1022 [==============================] - 0s 101us/step - loss: 0.5585 - acc: 0.8425 - val_loss: 0.5735 - val_acc: 0.8082\n",
            "Epoch 18/100\n",
            "1022/1022 [==============================] - 0s 89us/step - loss: 0.5494 - acc: 0.8464 - val_loss: 0.5644 - val_acc: 0.8219\n",
            "Epoch 19/100\n",
            "1022/1022 [==============================] - 0s 93us/step - loss: 0.5404 - acc: 0.8640 - val_loss: 0.5559 - val_acc: 0.8219\n",
            "Epoch 20/100\n",
            "1022/1022 [==============================] - 0s 92us/step - loss: 0.5311 - acc: 0.8650 - val_loss: 0.5477 - val_acc: 0.8219\n",
            "Epoch 21/100\n",
            "1022/1022 [==============================] - 0s 95us/step - loss: 0.5219 - acc: 0.8708 - val_loss: 0.5394 - val_acc: 0.8174\n",
            "Epoch 22/100\n",
            "1022/1022 [==============================] - 0s 90us/step - loss: 0.5122 - acc: 0.8601 - val_loss: 0.5289 - val_acc: 0.8311\n",
            "Epoch 23/100\n",
            "1022/1022 [==============================] - 0s 92us/step - loss: 0.5027 - acc: 0.8738 - val_loss: 0.5206 - val_acc: 0.8311\n",
            "Epoch 24/100\n",
            "1022/1022 [==============================] - 0s 89us/step - loss: 0.4933 - acc: 0.8777 - val_loss: 0.5114 - val_acc: 0.8356\n",
            "Epoch 25/100\n",
            "1022/1022 [==============================] - 0s 91us/step - loss: 0.4838 - acc: 0.8728 - val_loss: 0.5012 - val_acc: 0.8584\n",
            "Epoch 26/100\n",
            "1022/1022 [==============================] - 0s 91us/step - loss: 0.4742 - acc: 0.8708 - val_loss: 0.4930 - val_acc: 0.8584\n",
            "Epoch 27/100\n",
            "1022/1022 [==============================] - 0s 100us/step - loss: 0.4650 - acc: 0.8738 - val_loss: 0.4845 - val_acc: 0.8539\n",
            "Epoch 28/100\n",
            "1022/1022 [==============================] - 0s 95us/step - loss: 0.4558 - acc: 0.8767 - val_loss: 0.4754 - val_acc: 0.8584\n",
            "Epoch 29/100\n",
            "1022/1022 [==============================] - 0s 99us/step - loss: 0.4468 - acc: 0.8748 - val_loss: 0.4666 - val_acc: 0.8584\n",
            "Epoch 30/100\n",
            "1022/1022 [==============================] - 0s 96us/step - loss: 0.4381 - acc: 0.8738 - val_loss: 0.4588 - val_acc: 0.8584\n",
            "Epoch 31/100\n",
            "1022/1022 [==============================] - 0s 94us/step - loss: 0.4295 - acc: 0.8738 - val_loss: 0.4533 - val_acc: 0.8447\n",
            "Epoch 32/100\n",
            "1022/1022 [==============================] - 0s 102us/step - loss: 0.4218 - acc: 0.8738 - val_loss: 0.4447 - val_acc: 0.8584\n",
            "Epoch 33/100\n",
            "1022/1022 [==============================] - 0s 98us/step - loss: 0.4139 - acc: 0.8738 - val_loss: 0.4370 - val_acc: 0.8584\n",
            "Epoch 34/100\n",
            "1022/1022 [==============================] - 0s 94us/step - loss: 0.4065 - acc: 0.8738 - val_loss: 0.4290 - val_acc: 0.8584\n",
            "Epoch 35/100\n",
            "1022/1022 [==============================] - 0s 99us/step - loss: 0.3993 - acc: 0.8757 - val_loss: 0.4238 - val_acc: 0.8584\n",
            "Epoch 36/100\n",
            "1022/1022 [==============================] - 0s 94us/step - loss: 0.3928 - acc: 0.8728 - val_loss: 0.4163 - val_acc: 0.8584\n",
            "Epoch 37/100\n",
            "1022/1022 [==============================] - 0s 105us/step - loss: 0.3865 - acc: 0.8699 - val_loss: 0.4109 - val_acc: 0.8539\n",
            "Epoch 38/100\n",
            "1022/1022 [==============================] - 0s 95us/step - loss: 0.3808 - acc: 0.8738 - val_loss: 0.4043 - val_acc: 0.8584\n",
            "Epoch 39/100\n",
            "1022/1022 [==============================] - 0s 95us/step - loss: 0.3749 - acc: 0.8748 - val_loss: 0.3995 - val_acc: 0.8584\n",
            "Epoch 40/100\n",
            "1022/1022 [==============================] - 0s 93us/step - loss: 0.3698 - acc: 0.8708 - val_loss: 0.3940 - val_acc: 0.8584\n",
            "Epoch 41/100\n",
            "1022/1022 [==============================] - 0s 95us/step - loss: 0.3643 - acc: 0.8718 - val_loss: 0.3904 - val_acc: 0.8539\n",
            "Epoch 42/100\n",
            "1022/1022 [==============================] - 0s 93us/step - loss: 0.3601 - acc: 0.8708 - val_loss: 0.3865 - val_acc: 0.8539\n",
            "Epoch 43/100\n",
            "1022/1022 [==============================] - 0s 91us/step - loss: 0.3554 - acc: 0.8728 - val_loss: 0.3819 - val_acc: 0.8539\n",
            "Epoch 44/100\n",
            "1022/1022 [==============================] - 0s 90us/step - loss: 0.3512 - acc: 0.8728 - val_loss: 0.3756 - val_acc: 0.8584\n",
            "Epoch 45/100\n",
            "1022/1022 [==============================] - 0s 93us/step - loss: 0.3479 - acc: 0.8767 - val_loss: 0.3720 - val_acc: 0.8584\n",
            "Epoch 46/100\n",
            "1022/1022 [==============================] - 0s 91us/step - loss: 0.3439 - acc: 0.8767 - val_loss: 0.3693 - val_acc: 0.8539\n",
            "Epoch 47/100\n",
            "1022/1022 [==============================] - 0s 94us/step - loss: 0.3403 - acc: 0.8738 - val_loss: 0.3660 - val_acc: 0.8539\n",
            "Epoch 48/100\n",
            "1022/1022 [==============================] - 0s 94us/step - loss: 0.3370 - acc: 0.8777 - val_loss: 0.3627 - val_acc: 0.8539\n",
            "Epoch 49/100\n",
            "1022/1022 [==============================] - 0s 93us/step - loss: 0.3341 - acc: 0.8757 - val_loss: 0.3590 - val_acc: 0.8584\n",
            "Epoch 50/100\n",
            "1022/1022 [==============================] - 0s 91us/step - loss: 0.3313 - acc: 0.8787 - val_loss: 0.3568 - val_acc: 0.8539\n",
            "Epoch 51/100\n",
            "1022/1022 [==============================] - 0s 89us/step - loss: 0.3279 - acc: 0.8787 - val_loss: 0.3520 - val_acc: 0.8676\n",
            "Epoch 52/100\n",
            "1022/1022 [==============================] - 0s 99us/step - loss: 0.3259 - acc: 0.8738 - val_loss: 0.3501 - val_acc: 0.8584\n",
            "Epoch 53/100\n",
            "1022/1022 [==============================] - 0s 95us/step - loss: 0.3233 - acc: 0.8787 - val_loss: 0.3512 - val_acc: 0.8539\n",
            "Epoch 54/100\n",
            "1022/1022 [==============================] - 0s 92us/step - loss: 0.3215 - acc: 0.8757 - val_loss: 0.3461 - val_acc: 0.8584\n",
            "Epoch 55/100\n",
            "1022/1022 [==============================] - 0s 90us/step - loss: 0.3191 - acc: 0.8748 - val_loss: 0.3430 - val_acc: 0.8584\n",
            "Epoch 56/100\n",
            "1022/1022 [==============================] - 0s 89us/step - loss: 0.3174 - acc: 0.8787 - val_loss: 0.3429 - val_acc: 0.8584\n",
            "Epoch 57/100\n",
            "1022/1022 [==============================] - 0s 92us/step - loss: 0.3146 - acc: 0.8806 - val_loss: 0.3386 - val_acc: 0.8584\n",
            "Epoch 58/100\n",
            "1022/1022 [==============================] - 0s 99us/step - loss: 0.3138 - acc: 0.8826 - val_loss: 0.3374 - val_acc: 0.8584\n",
            "Epoch 59/100\n",
            "1022/1022 [==============================] - 0s 93us/step - loss: 0.3117 - acc: 0.8796 - val_loss: 0.3376 - val_acc: 0.8584\n",
            "Epoch 60/100\n",
            "1022/1022 [==============================] - 0s 92us/step - loss: 0.3097 - acc: 0.8816 - val_loss: 0.3324 - val_acc: 0.8676\n",
            "Epoch 61/100\n",
            "1022/1022 [==============================] - 0s 90us/step - loss: 0.3086 - acc: 0.8787 - val_loss: 0.3320 - val_acc: 0.8584\n",
            "Epoch 62/100\n",
            "1022/1022 [==============================] - 0s 90us/step - loss: 0.3072 - acc: 0.8777 - val_loss: 0.3329 - val_acc: 0.8584\n",
            "Epoch 63/100\n",
            "1022/1022 [==============================] - 0s 91us/step - loss: 0.3057 - acc: 0.8806 - val_loss: 0.3300 - val_acc: 0.8493\n",
            "Epoch 64/100\n",
            "1022/1022 [==============================] - 0s 90us/step - loss: 0.3041 - acc: 0.8796 - val_loss: 0.3269 - val_acc: 0.8630\n",
            "Epoch 65/100\n",
            "1022/1022 [==============================] - 0s 90us/step - loss: 0.3039 - acc: 0.8816 - val_loss: 0.3265 - val_acc: 0.8539\n",
            "Epoch 66/100\n",
            "1022/1022 [==============================] - 0s 89us/step - loss: 0.3016 - acc: 0.8806 - val_loss: 0.3258 - val_acc: 0.8539\n",
            "Epoch 67/100\n",
            "1022/1022 [==============================] - 0s 89us/step - loss: 0.3007 - acc: 0.8777 - val_loss: 0.3243 - val_acc: 0.8539\n",
            "Epoch 68/100\n",
            "1022/1022 [==============================] - 0s 92us/step - loss: 0.2991 - acc: 0.8806 - val_loss: 0.3218 - val_acc: 0.8676\n",
            "Epoch 69/100\n",
            "1022/1022 [==============================] - 0s 100us/step - loss: 0.2984 - acc: 0.8816 - val_loss: 0.3203 - val_acc: 0.8676\n",
            "Epoch 70/100\n",
            "1022/1022 [==============================] - 0s 90us/step - loss: 0.2979 - acc: 0.8816 - val_loss: 0.3211 - val_acc: 0.8539\n",
            "Epoch 71/100\n",
            "1022/1022 [==============================] - 0s 94us/step - loss: 0.2958 - acc: 0.8845 - val_loss: 0.3199 - val_acc: 0.8539\n",
            "Epoch 72/100\n",
            "1022/1022 [==============================] - 0s 90us/step - loss: 0.2956 - acc: 0.8806 - val_loss: 0.3193 - val_acc: 0.8539\n",
            "Epoch 73/100\n",
            "1022/1022 [==============================] - 0s 91us/step - loss: 0.2950 - acc: 0.8845 - val_loss: 0.3164 - val_acc: 0.8721\n",
            "Epoch 74/100\n",
            "1022/1022 [==============================] - 0s 89us/step - loss: 0.2934 - acc: 0.8836 - val_loss: 0.3177 - val_acc: 0.8539\n",
            "Epoch 75/100\n",
            "1022/1022 [==============================] - 0s 90us/step - loss: 0.2929 - acc: 0.8816 - val_loss: 0.3167 - val_acc: 0.8539\n",
            "Epoch 76/100\n",
            "1022/1022 [==============================] - 0s 91us/step - loss: 0.2916 - acc: 0.8806 - val_loss: 0.3135 - val_acc: 0.8721\n",
            "Epoch 77/100\n",
            "1022/1022 [==============================] - 0s 89us/step - loss: 0.2908 - acc: 0.8826 - val_loss: 0.3177 - val_acc: 0.8539\n",
            "Epoch 78/100\n",
            "1022/1022 [==============================] - 0s 89us/step - loss: 0.2896 - acc: 0.8865 - val_loss: 0.3137 - val_acc: 0.8539\n",
            "Epoch 79/100\n",
            "1022/1022 [==============================] - 0s 90us/step - loss: 0.2888 - acc: 0.8865 - val_loss: 0.3102 - val_acc: 0.8813\n",
            "Epoch 80/100\n",
            "1022/1022 [==============================] - 0s 99us/step - loss: 0.2892 - acc: 0.8855 - val_loss: 0.3105 - val_acc: 0.8767\n",
            "Epoch 81/100\n",
            "1022/1022 [==============================] - 0s 89us/step - loss: 0.2876 - acc: 0.8855 - val_loss: 0.3111 - val_acc: 0.8630\n",
            "Epoch 82/100\n",
            "1022/1022 [==============================] - 0s 92us/step - loss: 0.2868 - acc: 0.8836 - val_loss: 0.3095 - val_acc: 0.8721\n",
            "Epoch 83/100\n",
            "1022/1022 [==============================] - 0s 89us/step - loss: 0.2870 - acc: 0.8826 - val_loss: 0.3091 - val_acc: 0.8676\n",
            "Epoch 84/100\n",
            "1022/1022 [==============================] - 0s 91us/step - loss: 0.2854 - acc: 0.8836 - val_loss: 0.3125 - val_acc: 0.8493\n",
            "Epoch 85/100\n",
            "1022/1022 [==============================] - 0s 90us/step - loss: 0.2852 - acc: 0.8836 - val_loss: 0.3089 - val_acc: 0.8676\n",
            "Epoch 86/100\n",
            "1022/1022 [==============================] - 0s 91us/step - loss: 0.2845 - acc: 0.8836 - val_loss: 0.3070 - val_acc: 0.8721\n",
            "Epoch 87/100\n",
            "1022/1022 [==============================] - 0s 90us/step - loss: 0.2837 - acc: 0.8875 - val_loss: 0.3065 - val_acc: 0.8721\n",
            "Epoch 88/100\n",
            "1022/1022 [==============================] - 0s 89us/step - loss: 0.2834 - acc: 0.8836 - val_loss: 0.3046 - val_acc: 0.8813\n",
            "Epoch 89/100\n",
            "1022/1022 [==============================] - 0s 90us/step - loss: 0.2823 - acc: 0.8855 - val_loss: 0.3060 - val_acc: 0.8630\n",
            "Epoch 90/100\n",
            "1022/1022 [==============================] - 0s 91us/step - loss: 0.2819 - acc: 0.8836 - val_loss: 0.3066 - val_acc: 0.8630\n",
            "Epoch 91/100\n",
            "1022/1022 [==============================] - 0s 101us/step - loss: 0.2817 - acc: 0.8855 - val_loss: 0.3041 - val_acc: 0.8676\n",
            "Epoch 92/100\n",
            "1022/1022 [==============================] - 0s 93us/step - loss: 0.2807 - acc: 0.8855 - val_loss: 0.3062 - val_acc: 0.8630\n",
            "Epoch 93/100\n",
            "1022/1022 [==============================] - 0s 92us/step - loss: 0.2798 - acc: 0.8904 - val_loss: 0.3062 - val_acc: 0.8630\n",
            "Epoch 94/100\n",
            "1022/1022 [==============================] - 0s 90us/step - loss: 0.2796 - acc: 0.8845 - val_loss: 0.3034 - val_acc: 0.8630\n",
            "Epoch 95/100\n",
            "1022/1022 [==============================] - 0s 90us/step - loss: 0.2793 - acc: 0.8855 - val_loss: 0.3010 - val_acc: 0.8813\n",
            "Epoch 96/100\n",
            "1022/1022 [==============================] - 0s 90us/step - loss: 0.2785 - acc: 0.8885 - val_loss: 0.3030 - val_acc: 0.8630\n",
            "Epoch 97/100\n",
            "1022/1022 [==============================] - 0s 89us/step - loss: 0.2779 - acc: 0.8865 - val_loss: 0.3025 - val_acc: 0.8630\n",
            "Epoch 98/100\n",
            "1022/1022 [==============================] - 0s 91us/step - loss: 0.2773 - acc: 0.8875 - val_loss: 0.3023 - val_acc: 0.8584\n",
            "Epoch 99/100\n",
            "1022/1022 [==============================] - 0s 109us/step - loss: 0.2770 - acc: 0.8885 - val_loss: 0.2991 - val_acc: 0.8813\n",
            "Epoch 100/100\n",
            "1022/1022 [==============================] - 0s 95us/step - loss: 0.2769 - acc: 0.8875 - val_loss: 0.2998 - val_acc: 0.8676\n"
          ],
          "name": "stdout"
        }
      ]
    },
    {
      "metadata": {
        "id": "NDgfyhRNiRBB",
        "colab_type": "code",
        "colab": {
          "base_uri": "https://localhost:8080/",
          "height": 55
        },
        "outputId": "f6181f4c-7533-433c-9b33-3854dda8f79f"
      },
      "cell_type": "code",
      "source": [
        "model.evaluate(X_test, Y_test)[1]"
      ],
      "execution_count": 134,
      "outputs": [
        {
          "output_type": "stream",
          "text": [
            "219/219 [==============================] - 0s 67us/step\n"
          ],
          "name": "stdout"
        },
        {
          "output_type": "execute_result",
          "data": {
            "text/plain": [
              "0.8995433770902624"
            ]
          },
          "metadata": {
            "tags": []
          },
          "execution_count": 134
        }
      ]
    },
    {
      "metadata": {
        "id": "hU0DDSdjj2Oj",
        "colab_type": "text"
      },
      "cell_type": "markdown",
      "source": [
        "The reason why we have the index 1 after the model.evaluate function is because the function returns the loss as the first element and the accuracy as the second element. To only output the accuracy, simply access the second element (which is indexed by 1, since the first element starts its indexing from 0)."
      ]
    },
    {
      "metadata": {
        "id": "lZ4F-ty8hqp7",
        "colab_type": "text"
      },
      "cell_type": "markdown",
      "source": [
        "Summary: Coding up our first neural network required only a few lines of code:<br>\n",
        "<ol>\n",
        "<li>We specify the architecture with the Keras Sequential model.</li>\n",
        "<li>We specify some of our settings (optimizer, loss function, metrics to track) with model.compile</li>\n",
        "<li>We train our model (find the best parameters for our architecture) with the training data with model.fit</li>\n",
        "<li>We evaluate our model on the test set with model.evaluate</li>\n",
        "</ol>"
      ]
    },
    {
      "metadata": {
        "id": "-kVu_5r9mbL1",
        "colab_type": "code",
        "colab": {}
      },
      "cell_type": "code",
      "source": [
        "import matplotlib.pyplot as plt"
      ],
      "execution_count": 0,
      "outputs": []
    },
    {
      "metadata": {
        "id": "-IMfWYdHmhsZ",
        "colab_type": "code",
        "colab": {
          "base_uri": "https://localhost:8080/",
          "height": 295
        },
        "outputId": "cc34c57d-42d1-4d3c-d604-112839c38ab0"
      },
      "cell_type": "code",
      "source": [
        "plt.plot(hist.history['loss'])\n",
        "plt.plot(hist.history['val_loss'])\n",
        "plt.title('Model loss')\n",
        "plt.ylabel('Loss')\n",
        "plt.xlabel('Epoch')\n",
        "plt.legend(['Train', 'Val'], loc='upper right')\n",
        "plt.show()"
      ],
      "execution_count": 136,
      "outputs": [
        {
          "output_type": "display_data",
          "data": {
            "image/png": "[encoded data removed]",
            "text/plain": [
              "<Figure size 432x288 with 1 Axes>"
            ]
          },
          "metadata": {
            "tags": []
          }
        }
      ]
    },
    {
      "metadata": {
        "id": "o1SR_m5enIas",
        "colab_type": "code",
        "colab": {
          "base_uri": "https://localhost:8080/",
          "height": 295
        },
        "outputId": "307763a6-9189-4f5a-86a1-2dd7281b01ae"
      },
      "cell_type": "code",
      "source": [
        "plt.plot(hist.history['acc'])\n",
        "plt.plot(hist.history['val_acc'])\n",
        "plt.title('Model accuracy')\n",
        "plt.ylabel('Accuracy')\n",
        "plt.xlabel('Epoch')\n",
        "plt.legend(['Train', 'Val'], loc='lower right')\n",
        "plt.show()"
      ],
      "execution_count": 137,
      "outputs": [
        {
          "output_type": "display_data",
          "data": {
            "image/png": "[encoded data removed]",
            "text/plain": [
              "<Figure size 432x288 with 1 Axes>"
            ]
          },
          "metadata": {
            "tags": []
          }
        }
      ]
    },
    {
      "metadata": {
        "id": "pwmuE9mhnZt8",
        "colab_type": "text"
      },
      "cell_type": "markdown",
      "source": [
        "#Adding Regularization to our Neural Network"
      ]
    },
    {
      "metadata": {
        "id": "pLT0-5-QndCc",
        "colab_type": "text"
      },
      "cell_type": "markdown",
      "source": [
        "For the sake of introducing regularization to our neural network, let’s formulate with a neural network that will badly overfit on our training set. We’ll call this Model 2."
      ]
    },
    {
      "metadata": {
        "id": "SHkeQek1nxFQ",
        "colab_type": "code",
        "colab": {
          "base_uri": "https://localhost:8080/",
          "height": 3769
        },
        "outputId": "c0be10e1-b020-49e9-ffb9-578fcd990820"
      },
      "cell_type": "code",
      "source": [
        "model_2 = Sequential([\n",
        "    Dense(1000, activation='relu', input_shape=(10,)),\n",
        "    Dense(1000, activation='relu'),\n",
        "    Dense(1000, activation='relu'),\n",
        "    Dense(1000, activation='relu'),\n",
        "    Dense(1, activation='sigmoid'),\n",
        "])\n",
        "model_2.compile(optimizer='adam',\n",
        "              loss='binary_crossentropy',\n",
        "              metrics=['accuracy'])\n",
        "hist_2 = model_2.fit(X_train, Y_train,\n",
        "          batch_size=32, epochs=100,\n",
        "          validation_data=(X_val, Y_val))"
      ],
      "execution_count": 138,
      "outputs": [
        {
          "output_type": "stream",
          "text": [
            "Train on 1022 samples, validate on 219 samples\n",
            "Epoch 1/100\n",
            "1022/1022 [==============================] - 1s 941us/step - loss: 0.5033 - acc: 0.7495 - val_loss: 0.4174 - val_acc: 0.7991\n",
            "Epoch 2/100\n",
            "1022/1022 [==============================] - 0s 193us/step - loss: 0.3367 - acc: 0.8659 - val_loss: 0.3575 - val_acc: 0.8128\n",
            "Epoch 3/100\n",
            "1022/1022 [==============================] - 0s 184us/step - loss: 0.3325 - acc: 0.8532 - val_loss: 0.3327 - val_acc: 0.8447\n",
            "Epoch 4/100\n",
            "1022/1022 [==============================] - 0s 177us/step - loss: 0.3103 - acc: 0.8767 - val_loss: 0.2978 - val_acc: 0.8767\n",
            "Epoch 5/100\n",
            "1022/1022 [==============================] - 0s 169us/step - loss: 0.2853 - acc: 0.8914 - val_loss: 0.3089 - val_acc: 0.8493\n",
            "Epoch 6/100\n",
            "1022/1022 [==============================] - 0s 171us/step - loss: 0.2878 - acc: 0.8845 - val_loss: 0.2945 - val_acc: 0.8813\n",
            "Epoch 7/100\n",
            "1022/1022 [==============================] - 0s 177us/step - loss: 0.2536 - acc: 0.8982 - val_loss: 0.3040 - val_acc: 0.8721\n",
            "Epoch 8/100\n",
            "1022/1022 [==============================] - 0s 175us/step - loss: 0.2448 - acc: 0.9002 - val_loss: 0.2985 - val_acc: 0.8676\n",
            "Epoch 9/100\n",
            "1022/1022 [==============================] - 0s 175us/step - loss: 0.2512 - acc: 0.9080 - val_loss: 0.2948 - val_acc: 0.8630\n",
            "Epoch 10/100\n",
            "1022/1022 [==============================] - 0s 176us/step - loss: 0.2516 - acc: 0.8943 - val_loss: 0.3371 - val_acc: 0.8311\n",
            "Epoch 11/100\n",
            "1022/1022 [==============================] - 0s 170us/step - loss: 0.2352 - acc: 0.8953 - val_loss: 0.3491 - val_acc: 0.8356\n",
            "Epoch 12/100\n",
            "1022/1022 [==============================] - 0s 173us/step - loss: 0.2315 - acc: 0.9129 - val_loss: 0.3571 - val_acc: 0.8311\n",
            "Epoch 13/100\n",
            "1022/1022 [==============================] - 0s 179us/step - loss: 0.2243 - acc: 0.9100 - val_loss: 0.2588 - val_acc: 0.8813\n",
            "Epoch 14/100\n",
            "1022/1022 [==============================] - 0s 173us/step - loss: 0.2191 - acc: 0.9061 - val_loss: 0.3204 - val_acc: 0.8265\n",
            "Epoch 15/100\n",
            "1022/1022 [==============================] - 0s 174us/step - loss: 0.2053 - acc: 0.9100 - val_loss: 0.2963 - val_acc: 0.8630\n",
            "Epoch 16/100\n",
            "1022/1022 [==============================] - 0s 172us/step - loss: 0.2081 - acc: 0.9110 - val_loss: 0.2859 - val_acc: 0.8767\n",
            "Epoch 17/100\n",
            "1022/1022 [==============================] - 0s 177us/step - loss: 0.2131 - acc: 0.9041 - val_loss: 0.3329 - val_acc: 0.8311\n",
            "Epoch 18/100\n",
            "1022/1022 [==============================] - 0s 176us/step - loss: 0.2007 - acc: 0.9207 - val_loss: 0.3115 - val_acc: 0.8539\n",
            "Epoch 19/100\n",
            "1022/1022 [==============================] - 0s 181us/step - loss: 0.1982 - acc: 0.9159 - val_loss: 0.2881 - val_acc: 0.8767\n",
            "Epoch 20/100\n",
            "1022/1022 [==============================] - 0s 177us/step - loss: 0.2074 - acc: 0.9129 - val_loss: 0.2797 - val_acc: 0.8813\n",
            "Epoch 21/100\n",
            "1022/1022 [==============================] - 0s 174us/step - loss: 0.2419 - acc: 0.8982 - val_loss: 0.3087 - val_acc: 0.8539\n",
            "Epoch 22/100\n",
            "1022/1022 [==============================] - 0s 180us/step - loss: 0.2143 - acc: 0.9022 - val_loss: 0.3065 - val_acc: 0.8721\n",
            "Epoch 23/100\n",
            "1022/1022 [==============================] - 0s 171us/step - loss: 0.2141 - acc: 0.9031 - val_loss: 0.3140 - val_acc: 0.8447\n",
            "Epoch 24/100\n",
            "1022/1022 [==============================] - 0s 181us/step - loss: 0.1910 - acc: 0.9227 - val_loss: 0.2639 - val_acc: 0.8950\n",
            "Epoch 25/100\n",
            "1022/1022 [==============================] - 0s 172us/step - loss: 0.2167 - acc: 0.9168 - val_loss: 0.2730 - val_acc: 0.8767\n",
            "Epoch 26/100\n",
            "1022/1022 [==============================] - 0s 167us/step - loss: 0.1905 - acc: 0.9227 - val_loss: 0.2738 - val_acc: 0.8676\n",
            "Epoch 27/100\n",
            "1022/1022 [==============================] - 0s 172us/step - loss: 0.1949 - acc: 0.9247 - val_loss: 0.3406 - val_acc: 0.8721\n",
            "Epoch 28/100\n",
            "1022/1022 [==============================] - 0s 166us/step - loss: 0.2175 - acc: 0.9159 - val_loss: 0.2881 - val_acc: 0.8676\n",
            "Epoch 29/100\n",
            "1022/1022 [==============================] - 0s 172us/step - loss: 0.2037 - acc: 0.9168 - val_loss: 0.3688 - val_acc: 0.8219\n",
            "Epoch 30/100\n",
            "1022/1022 [==============================] - 0s 181us/step - loss: 0.1968 - acc: 0.9217 - val_loss: 0.2696 - val_acc: 0.8721\n",
            "Epoch 31/100\n",
            "1022/1022 [==============================] - 0s 170us/step - loss: 0.2036 - acc: 0.9119 - val_loss: 0.2958 - val_acc: 0.8721\n",
            "Epoch 32/100\n",
            "1022/1022 [==============================] - 0s 170us/step - loss: 0.1948 - acc: 0.9227 - val_loss: 0.3083 - val_acc: 0.8676\n",
            "Epoch 33/100\n",
            "1022/1022 [==============================] - 0s 173us/step - loss: 0.2314 - acc: 0.9070 - val_loss: 0.2835 - val_acc: 0.8630\n",
            "Epoch 34/100\n",
            "1022/1022 [==============================] - 0s 171us/step - loss: 0.1949 - acc: 0.9217 - val_loss: 0.2800 - val_acc: 0.8721\n",
            "Epoch 35/100\n",
            "1022/1022 [==============================] - 0s 174us/step - loss: 0.1847 - acc: 0.9295 - val_loss: 0.2807 - val_acc: 0.8584\n",
            "Epoch 36/100\n",
            "1022/1022 [==============================] - 0s 180us/step - loss: 0.1767 - acc: 0.9315 - val_loss: 0.2766 - val_acc: 0.8584\n",
            "Epoch 37/100\n",
            "1022/1022 [==============================] - 0s 172us/step - loss: 0.1751 - acc: 0.9286 - val_loss: 0.3260 - val_acc: 0.8539\n",
            "Epoch 38/100\n",
            "1022/1022 [==============================] - 0s 175us/step - loss: 0.1745 - acc: 0.9266 - val_loss: 0.3252 - val_acc: 0.8630\n",
            "Epoch 39/100\n",
            "1022/1022 [==============================] - 0s 171us/step - loss: 0.1709 - acc: 0.9227 - val_loss: 0.3274 - val_acc: 0.8676\n",
            "Epoch 40/100\n",
            "1022/1022 [==============================] - 0s 178us/step - loss: 0.1861 - acc: 0.9227 - val_loss: 0.2883 - val_acc: 0.8630\n",
            "Epoch 41/100\n",
            "1022/1022 [==============================] - 0s 187us/step - loss: 0.1630 - acc: 0.9325 - val_loss: 0.3120 - val_acc: 0.8721\n",
            "Epoch 42/100\n",
            "1022/1022 [==============================] - 0s 197us/step - loss: 0.1655 - acc: 0.9247 - val_loss: 0.3650 - val_acc: 0.8402\n",
            "Epoch 43/100\n",
            "1022/1022 [==============================] - 0s 191us/step - loss: 0.2046 - acc: 0.9178 - val_loss: 0.2773 - val_acc: 0.8676\n",
            "Epoch 44/100\n",
            "1022/1022 [==============================] - 0s 192us/step - loss: 0.1803 - acc: 0.9286 - val_loss: 0.2589 - val_acc: 0.8767\n",
            "Epoch 45/100\n",
            "1022/1022 [==============================] - 0s 189us/step - loss: 0.1665 - acc: 0.9286 - val_loss: 0.3148 - val_acc: 0.8676\n",
            "Epoch 46/100\n",
            "1022/1022 [==============================] - 0s 197us/step - loss: 0.1643 - acc: 0.9305 - val_loss: 0.3639 - val_acc: 0.8584\n",
            "Epoch 47/100\n",
            "1022/1022 [==============================] - 0s 203us/step - loss: 0.1491 - acc: 0.9344 - val_loss: 0.3940 - val_acc: 0.8584\n",
            "Epoch 48/100\n",
            "1022/1022 [==============================] - 0s 190us/step - loss: 0.1521 - acc: 0.9325 - val_loss: 0.3593 - val_acc: 0.8539\n",
            "Epoch 49/100\n",
            "1022/1022 [==============================] - 0s 189us/step - loss: 0.1941 - acc: 0.9266 - val_loss: 0.3410 - val_acc: 0.8539\n",
            "Epoch 50/100\n",
            "1022/1022 [==============================] - 0s 194us/step - loss: 0.1627 - acc: 0.9286 - val_loss: 0.3468 - val_acc: 0.8676\n",
            "Epoch 51/100\n",
            "1022/1022 [==============================] - 0s 190us/step - loss: 0.1728 - acc: 0.9276 - val_loss: 0.3440 - val_acc: 0.8447\n",
            "Epoch 52/100\n",
            "1022/1022 [==============================] - 0s 198us/step - loss: 0.1633 - acc: 0.9315 - val_loss: 0.4178 - val_acc: 0.8493\n",
            "Epoch 53/100\n",
            "1022/1022 [==============================] - 0s 190us/step - loss: 0.1702 - acc: 0.9315 - val_loss: 0.3153 - val_acc: 0.8493\n",
            "Epoch 54/100\n",
            "1022/1022 [==============================] - 0s 191us/step - loss: 0.1604 - acc: 0.9393 - val_loss: 0.3651 - val_acc: 0.8447\n",
            "Epoch 55/100\n",
            "1022/1022 [==============================] - 0s 189us/step - loss: 0.1547 - acc: 0.9364 - val_loss: 0.3654 - val_acc: 0.8539\n",
            "Epoch 56/100\n",
            "1022/1022 [==============================] - 0s 192us/step - loss: 0.1475 - acc: 0.9413 - val_loss: 0.4072 - val_acc: 0.8721\n",
            "Epoch 57/100\n",
            "1022/1022 [==============================] - 0s 203us/step - loss: 0.1583 - acc: 0.9305 - val_loss: 0.3191 - val_acc: 0.8493\n",
            "Epoch 58/100\n",
            "1022/1022 [==============================] - 0s 193us/step - loss: 0.1621 - acc: 0.9295 - val_loss: 0.3225 - val_acc: 0.8676\n",
            "Epoch 59/100\n",
            "1022/1022 [==============================] - 0s 194us/step - loss: 0.1469 - acc: 0.9432 - val_loss: 0.4174 - val_acc: 0.8630\n",
            "Epoch 60/100\n",
            "1022/1022 [==============================] - 0s 191us/step - loss: 0.1504 - acc: 0.9432 - val_loss: 0.3321 - val_acc: 0.8630\n",
            "Epoch 61/100\n",
            "1022/1022 [==============================] - 0s 191us/step - loss: 0.1400 - acc: 0.9462 - val_loss: 0.3599 - val_acc: 0.8493\n",
            "Epoch 62/100\n",
            "1022/1022 [==============================] - 0s 198us/step - loss: 0.1364 - acc: 0.9432 - val_loss: 0.4363 - val_acc: 0.8630\n",
            "Epoch 63/100\n",
            "1022/1022 [==============================] - 0s 188us/step - loss: 0.1530 - acc: 0.9364 - val_loss: 0.3500 - val_acc: 0.8813\n",
            "Epoch 64/100\n",
            "1022/1022 [==============================] - 0s 191us/step - loss: 0.1404 - acc: 0.9501 - val_loss: 0.3741 - val_acc: 0.8402\n",
            "Epoch 65/100\n",
            "1022/1022 [==============================] - 0s 193us/step - loss: 0.1203 - acc: 0.9511 - val_loss: 0.3790 - val_acc: 0.8539\n",
            "Epoch 66/100\n",
            "1022/1022 [==============================] - 0s 193us/step - loss: 0.1482 - acc: 0.9325 - val_loss: 0.3434 - val_acc: 0.8539\n",
            "Epoch 67/100\n",
            "1022/1022 [==============================] - 0s 204us/step - loss: 0.1742 - acc: 0.9256 - val_loss: 0.2940 - val_acc: 0.8676\n",
            "Epoch 68/100\n",
            "1022/1022 [==============================] - 0s 189us/step - loss: 0.1509 - acc: 0.9344 - val_loss: 0.3550 - val_acc: 0.8630\n",
            "Epoch 69/100\n",
            "1022/1022 [==============================] - 0s 188us/step - loss: 0.1283 - acc: 0.9501 - val_loss: 0.3947 - val_acc: 0.8265\n",
            "Epoch 70/100\n",
            "1022/1022 [==============================] - 0s 185us/step - loss: 0.1286 - acc: 0.9521 - val_loss: 0.5150 - val_acc: 0.8265\n",
            "Epoch 71/100\n",
            "1022/1022 [==============================] - 0s 191us/step - loss: 0.1273 - acc: 0.9501 - val_loss: 0.4302 - val_acc: 0.8265\n",
            "Epoch 72/100\n",
            "1022/1022 [==============================] - 0s 186us/step - loss: 0.1230 - acc: 0.9511 - val_loss: 0.4861 - val_acc: 0.8539\n",
            "Epoch 73/100\n",
            "1022/1022 [==============================] - 0s 188us/step - loss: 0.1151 - acc: 0.9540 - val_loss: 0.5544 - val_acc: 0.8539\n",
            "Epoch 74/100\n",
            "1022/1022 [==============================] - 0s 186us/step - loss: 0.1240 - acc: 0.9530 - val_loss: 0.4318 - val_acc: 0.8493\n",
            "Epoch 75/100\n",
            "1022/1022 [==============================] - 0s 184us/step - loss: 0.1171 - acc: 0.9550 - val_loss: 0.4990 - val_acc: 0.8630\n",
            "Epoch 76/100\n",
            "1022/1022 [==============================] - 0s 184us/step - loss: 0.1294 - acc: 0.9550 - val_loss: 0.5238 - val_acc: 0.8174\n",
            "Epoch 77/100\n",
            "1022/1022 [==============================] - 0s 183us/step - loss: 0.1390 - acc: 0.9305 - val_loss: 0.3658 - val_acc: 0.8584\n",
            "Epoch 78/100\n",
            "1022/1022 [==============================] - 0s 194us/step - loss: 0.1127 - acc: 0.9540 - val_loss: 0.6126 - val_acc: 0.8676\n",
            "Epoch 79/100\n",
            "1022/1022 [==============================] - 0s 190us/step - loss: 0.1199 - acc: 0.9550 - val_loss: 0.5095 - val_acc: 0.8402\n",
            "Epoch 80/100\n",
            "1022/1022 [==============================] - 0s 183us/step - loss: 0.1688 - acc: 0.9364 - val_loss: 0.4194 - val_acc: 0.8219\n",
            "Epoch 81/100\n",
            "1022/1022 [==============================] - 0s 185us/step - loss: 0.1609 - acc: 0.9393 - val_loss: 0.4168 - val_acc: 0.8584\n",
            "Epoch 82/100\n",
            "1022/1022 [==============================] - 0s 182us/step - loss: 0.1323 - acc: 0.9481 - val_loss: 0.3484 - val_acc: 0.8630\n",
            "Epoch 83/100\n",
            "1022/1022 [==============================] - 0s 193us/step - loss: 0.1339 - acc: 0.9481 - val_loss: 0.4082 - val_acc: 0.8402\n",
            "Epoch 84/100\n",
            "1022/1022 [==============================] - 0s 192us/step - loss: 0.1161 - acc: 0.9589 - val_loss: 0.5060 - val_acc: 0.8447\n",
            "Epoch 85/100\n",
            "1022/1022 [==============================] - 0s 190us/step - loss: 0.1296 - acc: 0.9472 - val_loss: 0.4496 - val_acc: 0.8493\n",
            "Epoch 86/100\n",
            "1022/1022 [==============================] - 0s 188us/step - loss: 0.1249 - acc: 0.9540 - val_loss: 0.4595 - val_acc: 0.8630\n",
            "Epoch 87/100\n",
            "1022/1022 [==============================] - 0s 185us/step - loss: 0.1264 - acc: 0.9521 - val_loss: 0.5118 - val_acc: 0.8493\n",
            "Epoch 88/100\n",
            "1022/1022 [==============================] - 0s 186us/step - loss: 0.1117 - acc: 0.9511 - val_loss: 0.4964 - val_acc: 0.8311\n",
            "Epoch 89/100\n",
            "1022/1022 [==============================] - 0s 194us/step - loss: 0.1171 - acc: 0.9511 - val_loss: 0.5464 - val_acc: 0.8174\n",
            "Epoch 90/100\n",
            "1022/1022 [==============================] - 0s 187us/step - loss: 0.1443 - acc: 0.9452 - val_loss: 0.4689 - val_acc: 0.8356\n",
            "Epoch 91/100\n",
            "1022/1022 [==============================] - 0s 184us/step - loss: 0.1061 - acc: 0.9589 - val_loss: 0.5534 - val_acc: 0.8447\n",
            "Epoch 92/100\n",
            "1022/1022 [==============================] - 0s 174us/step - loss: 0.0978 - acc: 0.9628 - val_loss: 0.5566 - val_acc: 0.8311\n",
            "Epoch 93/100\n",
            "1022/1022 [==============================] - 0s 167us/step - loss: 0.0976 - acc: 0.9628 - val_loss: 0.5452 - val_acc: 0.8447\n",
            "Epoch 94/100\n",
            "1022/1022 [==============================] - 0s 184us/step - loss: 0.0960 - acc: 0.9589 - val_loss: 0.5448 - val_acc: 0.8402\n",
            "Epoch 95/100\n",
            "1022/1022 [==============================] - 0s 175us/step - loss: 0.1191 - acc: 0.9521 - val_loss: 0.5446 - val_acc: 0.8539\n",
            "Epoch 96/100\n",
            "1022/1022 [==============================] - 0s 172us/step - loss: 0.1737 - acc: 0.9315 - val_loss: 0.4986 - val_acc: 0.8539\n",
            "Epoch 97/100\n",
            "1022/1022 [==============================] - 0s 172us/step - loss: 0.1236 - acc: 0.9491 - val_loss: 0.4119 - val_acc: 0.8493\n",
            "Epoch 98/100\n",
            "1022/1022 [==============================] - 0s 171us/step - loss: 0.1022 - acc: 0.9638 - val_loss: 0.5834 - val_acc: 0.8447\n",
            "Epoch 99/100\n",
            "1022/1022 [==============================] - 0s 173us/step - loss: 0.1093 - acc: 0.9550 - val_loss: 0.4996 - val_acc: 0.8493\n",
            "Epoch 100/100\n",
            "1022/1022 [==============================] - 0s 193us/step - loss: 0.0969 - acc: 0.9648 - val_loss: 0.4486 - val_acc: 0.8630\n"
          ],
          "name": "stdout"
        }
      ]
    },
    {
      "metadata": {
        "id": "2wbS12CMqk-w",
        "colab_type": "code",
        "colab": {
          "base_uri": "https://localhost:8080/",
          "height": 295
        },
        "outputId": "30817495-324b-44bd-bdab-9cebae411eb7"
      },
      "cell_type": "code",
      "source": [
        "plt.plot(hist_2.history['loss'])\n",
        "plt.plot(hist_2.history['val_loss'])\n",
        "plt.title('Model loss')\n",
        "plt.ylabel('Loss')\n",
        "plt.xlabel('Epoch')\n",
        "plt.legend(['Train', 'Val'], loc='upper right')\n",
        "plt.show()"
      ],
      "execution_count": 139,
      "outputs": [
        {
          "output_type": "display_data",
          "data": {
            "image/png": "[encoded data removed]",
            "text/plain": [
              "<Figure size 432x288 with 1 Axes>"
            ]
          },
          "metadata": {
            "tags": []
          }
        }
      ]
    },
    {
      "metadata": {
        "id": "3HXF1M_aqwCM",
        "colab_type": "text"
      },
      "cell_type": "markdown",
      "source": [
        "This is a clear sign of over-fitting. The training loss is decreasing, but the validation loss is way above the training loss and increasing (past the inflection point of Epoch 20). If we plot accuracy using the code below:\n",
        "\n"
      ]
    },
    {
      "metadata": {
        "id": "iOWGVvlEqyub",
        "colab_type": "code",
        "colab": {
          "base_uri": "https://localhost:8080/",
          "height": 295
        },
        "outputId": "b82fb066-449e-4ed8-b7eb-c5efe1b4f013"
      },
      "cell_type": "code",
      "source": [
        "plt.plot(hist_2.history['acc'])\n",
        "plt.plot(hist_2.history['val_acc'])\n",
        "plt.title('Model accuracy')\n",
        "plt.ylabel('Accuracy')\n",
        "plt.xlabel('Epoch')\n",
        "plt.legend(['Train', 'Val'], loc='lower right')\n",
        "plt.show()"
      ],
      "execution_count": 140,
      "outputs": [
        {
          "output_type": "display_data",
          "data": {
            "image/png": "[encoded data removed]",
            "text/plain": [
              "<Figure size 432x288 with 1 Axes>"
            ]
          },
          "metadata": {
            "tags": []
          }
        }
      ]
    },
    {
      "metadata": {
        "id": "mcYCiPByq22e",
        "colab_type": "text"
      },
      "cell_type": "markdown",
      "source": [
        "We can see a clearer divergence between train and validation accuracy as well:"
      ]
    },
    {
      "metadata": {
        "id": "Fbok57ybrUGL",
        "colab_type": "text"
      },
      "cell_type": "markdown",
      "source": [
        "Now, let’s try out some of our strategies to reduce over-fitting (apart from changing our architecture back to our first model). Remember from Intuitive Deep Learning Part 1b that we introduced three strategies to reduce over-fitting.\n",
        "\n",
        "Of the three, we’ll incorporate L2 regularization and dropout here. The reason we don’t add early stopping here is because after we’ve used the first two strategies, the validation loss doesn’t take the U-shape we see above and so early stopping will not be as effective.\n",
        "\n",
        "First, let’s import the code that we need for L2 regularization and dropout:"
      ]
    },
    {
      "metadata": {
        "id": "Js1MnxFBrl6M",
        "colab_type": "code",
        "colab": {}
      },
      "cell_type": "code",
      "source": [
        "from keras.layers import Dropout\n",
        "from keras import regularizers"
      ],
      "execution_count": 0,
      "outputs": []
    },
    {
      "metadata": {
        "id": "5PiINuJqrnRg",
        "colab_type": "text"
      },
      "cell_type": "markdown",
      "source": [
        "We then specify our third model like this:"
      ]
    },
    {
      "metadata": {
        "id": "ZirfkEberrbI",
        "colab_type": "code",
        "colab": {
          "base_uri": "https://localhost:8080/",
          "height": 93
        },
        "outputId": "7627dcff-0765-4d6b-8bc3-fa95dbc57b40"
      },
      "cell_type": "code",
      "source": [
        "model_3 = Sequential([\n",
        "    Dense(1000, activation='relu', kernel_regularizer=regularizers.l2(0.01), input_shape=(10,)),\n",
        "    Dropout(0.3),\n",
        "    Dense(1000, activation='relu', kernel_regularizer=regularizers.l2(0.01)),\n",
        "    Dropout(0.3),\n",
        "    Dense(1000, activation='relu', kernel_regularizer=regularizers.l2(0.01)),\n",
        "    Dropout(0.3),\n",
        "    Dense(1000, activation='relu', kernel_regularizer=regularizers.l2(0.01)),\n",
        "    Dropout(0.3),\n",
        "    Dense(1, activation='sigmoid', kernel_regularizer=regularizers.l2(0.01)),\n",
        "])"
      ],
      "execution_count": 142,
      "outputs": [
        {
          "output_type": "stream",
          "text": [
            "WARNING:tensorflow:From /usr/local/lib/python3.6/dist-packages/keras/backend/tensorflow_backend.py:3445: calling dropout (from tensorflow.python.ops.nn_ops) with keep_prob is deprecated and will be removed in a future version.\n",
            "Instructions for updating:\n",
            "Please use `rate` instead of `keep_prob`. Rate should be set to `rate = 1 - keep_prob`.\n"
          ],
          "name": "stdout"
        }
      ]
    },
    {
      "metadata": {
        "id": "3tFWCh4Br6uC",
        "colab_type": "text"
      },
      "cell_type": "markdown",
      "source": [
        "Can you spot the differences between Model 3 and Model 2? There are two main differences:\n",
        "\n",
        "Difference 1: To add L2 regularization, notice that we’ve added a bit of extra code in each of our dense layers like this: \n",
        "    \n",
        "kernel_regularizer=regularizers.l2(0.01)\n",
        "\n",
        "This tells Keras to include the squared values of those parameters in our overall loss function, and weight them by 0.01 in the loss function.\n",
        "\n",
        "Difference 2: To add Dropout, we added a new layer like this:\n",
        "\n",
        "Dropout(0.3),\n",
        "\n",
        "This means that the neurons in the previous layer has a probability of 0.3 in dropping out during training. Let’s compile it and run it with the same parameters as our Model 2 (the overfitting one):"
      ]
    },
    {
      "metadata": {
        "id": "dRl8r0RRtOre",
        "colab_type": "code",
        "colab": {
          "base_uri": "https://localhost:8080/",
          "height": 3769
        },
        "outputId": "bad037cb-215e-4b6b-eb3e-7d23c45f1ad1"
      },
      "cell_type": "code",
      "source": [
        "model_3.compile(optimizer='adam',\n",
        "              loss='binary_crossentropy',\n",
        "              metrics=['accuracy'])\n",
        "hist_3 = model_3.fit(X_train, Y_train,\n",
        "          batch_size=32, epochs=100,\n",
        "          validation_data=(X_val, Y_val))"
      ],
      "execution_count": 143,
      "outputs": [
        {
          "output_type": "stream",
          "text": [
            "Train on 1022 samples, validate on 219 samples\n",
            "Epoch 1/100\n",
            "1022/1022 [==============================] - 1s 1ms/step - loss: 14.2352 - acc: 0.6096 - val_loss: 3.9134 - val_acc: 0.7854\n",
            "Epoch 2/100\n",
            "1022/1022 [==============================] - 0s 223us/step - loss: 1.6726 - acc: 0.8209 - val_loss: 0.7939 - val_acc: 0.7900\n",
            "Epoch 3/100\n",
            "1022/1022 [==============================] - 0s 213us/step - loss: 0.5737 - acc: 0.8552 - val_loss: 0.5133 - val_acc: 0.8813\n",
            "Epoch 4/100\n",
            "1022/1022 [==============================] - 0s 214us/step - loss: 0.4944 - acc: 0.8806 - val_loss: 0.5894 - val_acc: 0.8037\n",
            "Epoch 5/100\n",
            "1022/1022 [==============================] - 0s 215us/step - loss: 0.4981 - acc: 0.8650 - val_loss: 0.5334 - val_acc: 0.8311\n",
            "Epoch 6/100\n",
            "1022/1022 [==============================] - 0s 218us/step - loss: 0.4985 - acc: 0.8630 - val_loss: 0.4973 - val_acc: 0.8584\n",
            "Epoch 7/100\n",
            "1022/1022 [==============================] - 0s 225us/step - loss: 0.4737 - acc: 0.8806 - val_loss: 0.4760 - val_acc: 0.8950\n",
            "Epoch 8/100\n",
            "1022/1022 [==============================] - 0s 211us/step - loss: 0.4702 - acc: 0.8826 - val_loss: 0.4931 - val_acc: 0.8630\n",
            "Epoch 9/100\n",
            "1022/1022 [==============================] - 0s 209us/step - loss: 0.4642 - acc: 0.8816 - val_loss: 0.4843 - val_acc: 0.8813\n",
            "Epoch 10/100\n",
            "1022/1022 [==============================] - 0s 204us/step - loss: 0.4608 - acc: 0.8836 - val_loss: 0.4720 - val_acc: 0.8721\n",
            "Epoch 11/100\n",
            "1022/1022 [==============================] - 0s 225us/step - loss: 0.4676 - acc: 0.8689 - val_loss: 0.5024 - val_acc: 0.8447\n",
            "Epoch 12/100\n",
            "1022/1022 [==============================] - 0s 222us/step - loss: 0.4765 - acc: 0.8748 - val_loss: 0.4716 - val_acc: 0.8950\n",
            "Epoch 13/100\n",
            "1022/1022 [==============================] - 0s 219us/step - loss: 0.4830 - acc: 0.8630 - val_loss: 0.4689 - val_acc: 0.8767\n",
            "Epoch 14/100\n",
            "1022/1022 [==============================] - 0s 217us/step - loss: 0.4950 - acc: 0.8640 - val_loss: 0.4933 - val_acc: 0.8493\n",
            "Epoch 15/100\n",
            "1022/1022 [==============================] - 0s 221us/step - loss: 0.4498 - acc: 0.8845 - val_loss: 0.4619 - val_acc: 0.8813\n",
            "Epoch 16/100\n",
            "1022/1022 [==============================] - 0s 221us/step - loss: 0.4476 - acc: 0.8845 - val_loss: 0.4527 - val_acc: 0.8767\n",
            "Epoch 17/100\n",
            "1022/1022 [==============================] - 0s 216us/step - loss: 0.4621 - acc: 0.8728 - val_loss: 0.4883 - val_acc: 0.8447\n",
            "Epoch 18/100\n",
            "1022/1022 [==============================] - 0s 217us/step - loss: 0.4524 - acc: 0.8845 - val_loss: 0.4475 - val_acc: 0.8858\n",
            "Epoch 19/100\n",
            "1022/1022 [==============================] - 0s 214us/step - loss: 0.4641 - acc: 0.8845 - val_loss: 0.4673 - val_acc: 0.8721\n",
            "Epoch 20/100\n",
            "1022/1022 [==============================] - 0s 215us/step - loss: 0.4481 - acc: 0.8816 - val_loss: 0.4609 - val_acc: 0.8767\n",
            "Epoch 21/100\n",
            "1022/1022 [==============================] - 0s 223us/step - loss: 0.4510 - acc: 0.8816 - val_loss: 0.4958 - val_acc: 0.8402\n",
            "Epoch 22/100\n",
            "1022/1022 [==============================] - 0s 216us/step - loss: 0.4444 - acc: 0.8845 - val_loss: 0.4532 - val_acc: 0.8904\n",
            "Epoch 23/100\n",
            "1022/1022 [==============================] - 0s 219us/step - loss: 0.4347 - acc: 0.8826 - val_loss: 0.4530 - val_acc: 0.8721\n",
            "Epoch 24/100\n",
            "1022/1022 [==============================] - 0s 218us/step - loss: 0.4465 - acc: 0.8855 - val_loss: 0.4494 - val_acc: 0.8904\n",
            "Epoch 25/100\n",
            "1022/1022 [==============================] - 0s 232us/step - loss: 0.4768 - acc: 0.8718 - val_loss: 0.4610 - val_acc: 0.8767\n",
            "Epoch 26/100\n",
            "1022/1022 [==============================] - 0s 217us/step - loss: 0.4385 - acc: 0.8943 - val_loss: 0.4588 - val_acc: 0.8813\n",
            "Epoch 27/100\n",
            "1022/1022 [==============================] - 0s 226us/step - loss: 0.4589 - acc: 0.8738 - val_loss: 0.4902 - val_acc: 0.8493\n",
            "Epoch 28/100\n",
            "1022/1022 [==============================] - 0s 217us/step - loss: 0.4396 - acc: 0.8865 - val_loss: 0.4447 - val_acc: 0.8767\n",
            "Epoch 29/100\n",
            "1022/1022 [==============================] - 0s 216us/step - loss: 0.4355 - acc: 0.8836 - val_loss: 0.4476 - val_acc: 0.8813\n",
            "Epoch 30/100\n",
            "1022/1022 [==============================] - 0s 227us/step - loss: 0.4414 - acc: 0.8796 - val_loss: 0.4423 - val_acc: 0.8904\n",
            "Epoch 31/100\n",
            "1022/1022 [==============================] - 0s 215us/step - loss: 0.4421 - acc: 0.8787 - val_loss: 0.4456 - val_acc: 0.8721\n",
            "Epoch 32/100\n",
            "1022/1022 [==============================] - 0s 215us/step - loss: 0.4464 - acc: 0.8865 - val_loss: 0.4553 - val_acc: 0.8767\n",
            "Epoch 33/100\n",
            "1022/1022 [==============================] - 0s 227us/step - loss: 0.4504 - acc: 0.8728 - val_loss: 0.5170 - val_acc: 0.8265\n",
            "Epoch 34/100\n",
            "1022/1022 [==============================] - 0s 228us/step - loss: 0.4424 - acc: 0.8836 - val_loss: 0.4828 - val_acc: 0.8447\n",
            "Epoch 35/100\n",
            "1022/1022 [==============================] - 0s 216us/step - loss: 0.4417 - acc: 0.8816 - val_loss: 0.4693 - val_acc: 0.8584\n",
            "Epoch 36/100\n",
            "1022/1022 [==============================] - 0s 206us/step - loss: 0.4341 - acc: 0.8894 - val_loss: 0.4423 - val_acc: 0.8904\n",
            "Epoch 37/100\n",
            "1022/1022 [==============================] - 0s 206us/step - loss: 0.4345 - acc: 0.8806 - val_loss: 0.4440 - val_acc: 0.8813\n",
            "Epoch 38/100\n",
            "1022/1022 [==============================] - 0s 212us/step - loss: 0.4378 - acc: 0.8885 - val_loss: 0.4742 - val_acc: 0.8584\n",
            "Epoch 39/100\n",
            "1022/1022 [==============================] - 0s 223us/step - loss: 0.4375 - acc: 0.8796 - val_loss: 0.4496 - val_acc: 0.8813\n",
            "Epoch 40/100\n",
            "1022/1022 [==============================] - 0s 212us/step - loss: 0.4343 - acc: 0.8787 - val_loss: 0.4666 - val_acc: 0.8584\n",
            "Epoch 41/100\n",
            "1022/1022 [==============================] - 0s 212us/step - loss: 0.4519 - acc: 0.8767 - val_loss: 0.5682 - val_acc: 0.8037\n",
            "Epoch 42/100\n",
            "1022/1022 [==============================] - 0s 214us/step - loss: 0.4773 - acc: 0.8679 - val_loss: 0.4767 - val_acc: 0.8584\n",
            "Epoch 43/100\n",
            "1022/1022 [==============================] - 0s 223us/step - loss: 0.4476 - acc: 0.8904 - val_loss: 0.4517 - val_acc: 0.8721\n",
            "Epoch 44/100\n",
            "1022/1022 [==============================] - 0s 215us/step - loss: 0.4369 - acc: 0.8894 - val_loss: 0.4514 - val_acc: 0.8813\n",
            "Epoch 45/100\n",
            "1022/1022 [==============================] - 0s 206us/step - loss: 0.4350 - acc: 0.8865 - val_loss: 0.4415 - val_acc: 0.8813\n",
            "Epoch 46/100\n",
            "1022/1022 [==============================] - 0s 208us/step - loss: 0.4328 - acc: 0.8767 - val_loss: 0.4981 - val_acc: 0.8402\n",
            "Epoch 47/100\n",
            "1022/1022 [==============================] - 0s 209us/step - loss: 0.4368 - acc: 0.8894 - val_loss: 0.4509 - val_acc: 0.8813\n",
            "Epoch 48/100\n",
            "1022/1022 [==============================] - 0s 218us/step - loss: 0.4437 - acc: 0.8777 - val_loss: 0.4475 - val_acc: 0.8858\n",
            "Epoch 49/100\n",
            "1022/1022 [==============================] - 0s 211us/step - loss: 0.4402 - acc: 0.8748 - val_loss: 0.4411 - val_acc: 0.8813\n",
            "Epoch 50/100\n",
            "1022/1022 [==============================] - 0s 209us/step - loss: 0.4292 - acc: 0.8855 - val_loss: 0.4413 - val_acc: 0.8813\n",
            "Epoch 51/100\n",
            "1022/1022 [==============================] - 0s 209us/step - loss: 0.4311 - acc: 0.8885 - val_loss: 0.4543 - val_acc: 0.8767\n",
            "Epoch 52/100\n",
            "1022/1022 [==============================] - 0s 215us/step - loss: 0.4692 - acc: 0.8699 - val_loss: 0.4816 - val_acc: 0.8493\n",
            "Epoch 53/100\n",
            "1022/1022 [==============================] - 0s 211us/step - loss: 0.4396 - acc: 0.8953 - val_loss: 0.4438 - val_acc: 0.8813\n",
            "Epoch 54/100\n",
            "1022/1022 [==============================] - 0s 206us/step - loss: 0.4479 - acc: 0.8806 - val_loss: 0.4703 - val_acc: 0.8676\n",
            "Epoch 55/100\n",
            "1022/1022 [==============================] - 0s 205us/step - loss: 0.4464 - acc: 0.8699 - val_loss: 0.4438 - val_acc: 0.8813\n",
            "Epoch 56/100\n",
            "1022/1022 [==============================] - 0s 212us/step - loss: 0.4292 - acc: 0.8885 - val_loss: 0.5148 - val_acc: 0.8265\n",
            "Epoch 57/100\n",
            "1022/1022 [==============================] - 0s 206us/step - loss: 0.4391 - acc: 0.8826 - val_loss: 0.4433 - val_acc: 0.8813\n",
            "Epoch 58/100\n",
            "1022/1022 [==============================] - 0s 218us/step - loss: 0.4274 - acc: 0.8816 - val_loss: 0.4751 - val_acc: 0.8539\n",
            "Epoch 59/100\n",
            "1022/1022 [==============================] - 0s 215us/step - loss: 0.4447 - acc: 0.8836 - val_loss: 0.4457 - val_acc: 0.8813\n",
            "Epoch 60/100\n",
            "1022/1022 [==============================] - 0s 210us/step - loss: 0.4264 - acc: 0.8796 - val_loss: 0.5576 - val_acc: 0.7626\n",
            "Epoch 61/100\n",
            "1022/1022 [==============================] - 0s 209us/step - loss: 0.4551 - acc: 0.8816 - val_loss: 0.4447 - val_acc: 0.8813\n",
            "Epoch 62/100\n",
            "1022/1022 [==============================] - 0s 215us/step - loss: 0.4258 - acc: 0.8845 - val_loss: 0.4659 - val_acc: 0.8721\n",
            "Epoch 63/100\n",
            "1022/1022 [==============================] - 0s 208us/step - loss: 0.4368 - acc: 0.8777 - val_loss: 0.4488 - val_acc: 0.8767\n",
            "Epoch 64/100\n",
            "1022/1022 [==============================] - 0s 208us/step - loss: 0.4361 - acc: 0.8924 - val_loss: 0.4889 - val_acc: 0.8447\n",
            "Epoch 65/100\n",
            "1022/1022 [==============================] - 0s 208us/step - loss: 0.4343 - acc: 0.8796 - val_loss: 0.4610 - val_acc: 0.8767\n",
            "Epoch 66/100\n",
            "1022/1022 [==============================] - 0s 209us/step - loss: 0.4381 - acc: 0.8875 - val_loss: 0.4853 - val_acc: 0.8447\n",
            "Epoch 67/100\n",
            "1022/1022 [==============================] - 0s 212us/step - loss: 0.4383 - acc: 0.8806 - val_loss: 0.4790 - val_acc: 0.8539\n",
            "Epoch 68/100\n",
            "1022/1022 [==============================] - 0s 210us/step - loss: 0.4307 - acc: 0.8914 - val_loss: 0.4464 - val_acc: 0.8813\n",
            "Epoch 69/100\n",
            "1022/1022 [==============================] - 0s 215us/step - loss: 0.4459 - acc: 0.8914 - val_loss: 0.5100 - val_acc: 0.8265\n",
            "Epoch 70/100\n",
            "1022/1022 [==============================] - 0s 214us/step - loss: 0.4385 - acc: 0.8806 - val_loss: 0.5622 - val_acc: 0.8082\n",
            "Epoch 71/100\n",
            "1022/1022 [==============================] - 0s 214us/step - loss: 0.4470 - acc: 0.8738 - val_loss: 0.4451 - val_acc: 0.8813\n",
            "Epoch 72/100\n",
            "1022/1022 [==============================] - 0s 219us/step - loss: 0.4316 - acc: 0.8914 - val_loss: 0.4517 - val_acc: 0.8767\n",
            "Epoch 73/100\n",
            "1022/1022 [==============================] - 0s 208us/step - loss: 0.4331 - acc: 0.8796 - val_loss: 0.4558 - val_acc: 0.8721\n",
            "Epoch 74/100\n",
            "1022/1022 [==============================] - 0s 205us/step - loss: 0.4475 - acc: 0.8816 - val_loss: 0.4434 - val_acc: 0.8858\n",
            "Epoch 75/100\n",
            "1022/1022 [==============================] - 0s 222us/step - loss: 0.4360 - acc: 0.8855 - val_loss: 0.4406 - val_acc: 0.8858\n",
            "Epoch 76/100\n",
            "1022/1022 [==============================] - 0s 213us/step - loss: 0.4346 - acc: 0.8904 - val_loss: 0.4536 - val_acc: 0.8813\n",
            "Epoch 77/100\n",
            "1022/1022 [==============================] - 0s 210us/step - loss: 0.4236 - acc: 0.8875 - val_loss: 0.4397 - val_acc: 0.8904\n",
            "Epoch 78/100\n",
            "1022/1022 [==============================] - 0s 207us/step - loss: 0.4421 - acc: 0.8836 - val_loss: 0.4953 - val_acc: 0.8402\n",
            "Epoch 79/100\n",
            "1022/1022 [==============================] - 0s 207us/step - loss: 0.4684 - acc: 0.8728 - val_loss: 0.4642 - val_acc: 0.8630\n",
            "Epoch 80/100\n",
            "1022/1022 [==============================] - 0s 208us/step - loss: 0.4500 - acc: 0.8777 - val_loss: 0.5157 - val_acc: 0.8128\n",
            "Epoch 81/100\n",
            "1022/1022 [==============================] - 0s 217us/step - loss: 0.4332 - acc: 0.8963 - val_loss: 0.4885 - val_acc: 0.8402\n",
            "Epoch 82/100\n",
            "1022/1022 [==============================] - 0s 204us/step - loss: 0.4487 - acc: 0.8777 - val_loss: 0.4479 - val_acc: 0.8813\n",
            "Epoch 83/100\n",
            "1022/1022 [==============================] - 0s 207us/step - loss: 0.4348 - acc: 0.8855 - val_loss: 0.4480 - val_acc: 0.8721\n",
            "Epoch 84/100\n",
            "1022/1022 [==============================] - 0s 210us/step - loss: 0.4261 - acc: 0.8933 - val_loss: 0.4468 - val_acc: 0.8904\n",
            "Epoch 85/100\n",
            "1022/1022 [==============================] - 0s 211us/step - loss: 0.4188 - acc: 0.8982 - val_loss: 0.4375 - val_acc: 0.8904\n",
            "Epoch 86/100\n",
            "1022/1022 [==============================] - 0s 218us/step - loss: 0.4431 - acc: 0.8845 - val_loss: 0.4720 - val_acc: 0.8584\n",
            "Epoch 87/100\n",
            "1022/1022 [==============================] - 0s 206us/step - loss: 0.4500 - acc: 0.8767 - val_loss: 0.4835 - val_acc: 0.8447\n",
            "Epoch 88/100\n",
            "1022/1022 [==============================] - 0s 206us/step - loss: 0.4549 - acc: 0.8796 - val_loss: 0.4444 - val_acc: 0.8904\n",
            "Epoch 89/100\n",
            "1022/1022 [==============================] - 0s 209us/step - loss: 0.4368 - acc: 0.8933 - val_loss: 0.4670 - val_acc: 0.8584\n",
            "Epoch 90/100\n",
            "1022/1022 [==============================] - 0s 209us/step - loss: 0.4423 - acc: 0.8816 - val_loss: 0.4417 - val_acc: 0.8904\n",
            "Epoch 91/100\n",
            "1022/1022 [==============================] - 0s 218us/step - loss: 0.4319 - acc: 0.8826 - val_loss: 0.4493 - val_acc: 0.8858\n",
            "Epoch 92/100\n",
            "1022/1022 [==============================] - 0s 207us/step - loss: 0.4444 - acc: 0.8875 - val_loss: 0.4876 - val_acc: 0.8447\n",
            "Epoch 93/100\n",
            "1022/1022 [==============================] - 0s 206us/step - loss: 0.4334 - acc: 0.8777 - val_loss: 0.4841 - val_acc: 0.8447\n",
            "Epoch 94/100\n",
            "1022/1022 [==============================] - 0s 204us/step - loss: 0.4407 - acc: 0.8865 - val_loss: 0.4677 - val_acc: 0.8584\n",
            "Epoch 95/100\n",
            "1022/1022 [==============================] - 0s 206us/step - loss: 0.4456 - acc: 0.8845 - val_loss: 0.4412 - val_acc: 0.8858\n",
            "Epoch 96/100\n",
            "1022/1022 [==============================] - 0s 211us/step - loss: 0.4424 - acc: 0.8865 - val_loss: 0.4406 - val_acc: 0.8858\n",
            "Epoch 97/100\n",
            "1022/1022 [==============================] - 0s 210us/step - loss: 0.4331 - acc: 0.8924 - val_loss: 0.4490 - val_acc: 0.8767\n",
            "Epoch 98/100\n",
            "1022/1022 [==============================] - 0s 208us/step - loss: 0.4347 - acc: 0.8845 - val_loss: 0.4883 - val_acc: 0.8402\n",
            "Epoch 99/100\n",
            "1022/1022 [==============================] - 0s 209us/step - loss: 0.4453 - acc: 0.8845 - val_loss: 0.4427 - val_acc: 0.8813\n",
            "Epoch 100/100\n",
            "1022/1022 [==============================] - 0s 211us/step - loss: 0.4390 - acc: 0.8796 - val_loss: 0.4503 - val_acc: 0.8676\n"
          ],
          "name": "stdout"
        }
      ]
    },
    {
      "metadata": {
        "id": "Ax2e_4C0tlTj",
        "colab_type": "text"
      },
      "cell_type": "markdown",
      "source": [
        "And now, let’s plot the loss and accuracy graphs. You’ll notice that the loss is a lot higher at the start, and that’s because we’ve changed our loss function. To plot such that the window is zoomed in between 0 and 1.2 for the loss, we add an additional line of code (plt.ylim) when plotting:"
      ]
    },
    {
      "metadata": {
        "id": "SPGzSzmmtrLU",
        "colab_type": "code",
        "colab": {
          "base_uri": "https://localhost:8080/",
          "height": 295
        },
        "outputId": "08e1e202-6c46-452b-8e2e-e03afb642c52"
      },
      "cell_type": "code",
      "source": [
        "plt.plot(hist_3.history['loss'])\n",
        "plt.plot(hist_3.history['val_loss'])\n",
        "plt.title('Model loss')\n",
        "plt.ylabel('Loss')\n",
        "plt.xlabel('Epoch')\n",
        "plt.legend(['Train', 'Val'], loc='upper right')\n",
        "plt.ylim(top=1.2, bottom=0)\n",
        "plt.show()"
      ],
      "execution_count": 146,
      "outputs": [
        {
          "output_type": "display_data",
          "data": {
            "image/png": "[encoded data removed]",
            "text/plain": [
              "<Figure size 432x288 with 1 Axes>"
            ]
          },
          "metadata": {
            "tags": []
          }
        }
      ]
    },
    {
      "metadata": {
        "id": "inArVvg3t-mF",
        "colab_type": "text"
      },
      "cell_type": "markdown",
      "source": [
        "You can see that the validation loss much more closely matches our training loss. Let’s plot the accuracy with similar code snippet:"
      ]
    },
    {
      "metadata": {
        "id": "bjvPNEZGuH5A",
        "colab_type": "code",
        "colab": {
          "base_uri": "https://localhost:8080/",
          "height": 295
        },
        "outputId": "cb85f991-be95-4fe7-f096-b900f175e611"
      },
      "cell_type": "code",
      "source": [
        "plt.plot(hist_3.history['acc'])\n",
        "plt.plot(hist_3.history['val_acc'])\n",
        "plt.title('Model accuracy')\n",
        "plt.ylabel('Accuracy')\n",
        "plt.xlabel('Epoch')\n",
        "plt.legend(['Train', 'Val'], loc='lower right')\n",
        "plt.show()"
      ],
      "execution_count": 147,
      "outputs": [
        {
          "output_type": "display_data",
          "data": {
            "image/png": "[encoded data removed]",
            "text/plain": [
              "<Figure size 432x288 with 1 Axes>"
            ]
          },
          "metadata": {
            "tags": []
          }
        }
      ]
    },
    {
      "metadata": {
        "id": "KX8CooMOuXbX",
        "colab_type": "text"
      },
      "cell_type": "markdown",
      "source": [
        "Compared to our model in Model 2, we’ve reduced overfitting substantially! And that’s how we apply our regularization techniques to reduce overfitting to the training set.\n",
        "\n",
        "Summary: To deal with overfitting, we can code in the following strategies into our model each with about one line of code:\n",
        "<ul>\n",
        "<li>L2 Regularization</li>\n",
        "<li>Dropout</li>\n",
        "</ul>\n",
        "If we visualize the training / validation loss and accuracy, we can see that these additions have helped deal with overfitting!\n",
        "\n",
        "Consolidated Summary:\n",
        "In this post, we’ve written Python code to:\n",
        "<ul>\n",
        "<li>Explore and Process the Data</li>\n",
        "<li>Build and Train our Neural Network</li>\n",
        "<li>Visualize Loss and Accuracy</li>\n",
        "<li>Add Regularization to our Neural Network</li>\n",
        "</ul>\n",
        "We’ve been through a lot, but we haven’t written too many lines of code! Building and Training our Neural Network has only taken about 4 to 5 lines of code, and experimenting with different model architectures is just a simple matter of swapping in different layers or changing different hyperparameters. Keras has indeed made it a lot easier to build our neural networks, and we’ll continue to use it for more advanced applications in Computer Vision and Natural Language Processing."
      ]
    }
  ]
}